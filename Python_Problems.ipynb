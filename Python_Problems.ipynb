{
 "cells": [
  {
   "cell_type": "markdown",
   "metadata": {},
   "source": [
    "**Problem Statement 1**\n",
    "\n",
    "A positive integer m is a prime product if it can be written as p×q, where p and q are both primes. .\n",
    "\n",
    "Write a Python function primeproduct(m) that takes an integer m as input and returns True if m is a prime product and False otherwise. (If m is not positive, your function should return False.)\n",
    "\n",
    "Here are some examples of how your function should work.\n",
    "\n",
    "primeproduct(6)\n",
    "\n",
    "True\n",
    "\n",
    "primeproduct(188)\n",
    "\n",
    "False\n",
    "\n",
    "primeproduct(202)\n",
    "\n",
    "True\n"
   ]
  },
  {
   "cell_type": "code",
   "execution_count": 1,
   "metadata": {},
   "outputs": [],
   "source": [
    "import math\n",
    "\n",
    "def is_prime(num):\n",
    "    for i in range(2,math.ceil(math.sqrt(num))+1):\n",
    "        if num == 1:\n",
    "            return False\n",
    "        if num == 2:\n",
    "            return True\n",
    "        if num%i == 0:\n",
    "            return False\n",
    "    return True\n",
    "\n",
    "def primeproduct(num):\n",
    "    if num == 2:\n",
    "        return False\n",
    "    for i in range(2,math.ceil(math.sqrt(num))+1):\n",
    "        if (num%i == 0) & is_prime(i) & is_prime(num//i):\n",
    "            return True\n",
    "    return False"
   ]
  },
  {
   "cell_type": "code",
   "execution_count": 2,
   "metadata": {},
   "outputs": [
    {
     "data": {
      "text/plain": [
       "True"
      ]
     },
     "execution_count": 2,
     "metadata": {},
     "output_type": "execute_result"
    }
   ],
   "source": [
    "primeproduct(6)"
   ]
  },
  {
   "cell_type": "code",
   "execution_count": 3,
   "metadata": {},
   "outputs": [
    {
     "data": {
      "text/plain": [
       "False"
      ]
     },
     "execution_count": 3,
     "metadata": {},
     "output_type": "execute_result"
    }
   ],
   "source": [
    "primeproduct(188)"
   ]
  },
  {
   "cell_type": "code",
   "execution_count": 4,
   "metadata": {},
   "outputs": [
    {
     "data": {
      "text/plain": [
       "True"
      ]
     },
     "execution_count": 4,
     "metadata": {},
     "output_type": "execute_result"
    }
   ],
   "source": [
    "primeproduct(202)"
   ]
  },
  {
   "cell_type": "markdown",
   "metadata": {},
   "source": [
    "**Problem Statement 2**\n",
    "\n",
    "Write a function delchar(s,c) that takes as input strings s and c, where c has length 1 (i.e., a single character), and returns the string obtained by deleting all occurrences of c in s. If c has length other than 1, the function should return s\n",
    "\n",
    "Here are some examples to show how your function should work.\n",
    "\n",
    " \n",
    "delchar(\"banana\",\"b\")\n",
    "\n",
    "'anana'\n",
    "\n",
    "delchar(\"banana\",\"a\")\n",
    "\n",
    "'bnn'\n",
    "\n",
    "delchar(\"banana\",\"n\")\n",
    "\n",
    "'baaa'\n",
    "\n",
    "delchar(\"banana\",\"an\")\n",
    "\n",
    "'banana'\n"
   ]
  },
  {
   "cell_type": "code",
   "execution_count": 5,
   "metadata": {},
   "outputs": [],
   "source": [
    "def delchar(s,c):\n",
    "    if len(c) > 1:\n",
    "        return s\n",
    "    else:\n",
    "        return s.replace(c,\"\")"
   ]
  },
  {
   "cell_type": "code",
   "execution_count": 6,
   "metadata": {},
   "outputs": [
    {
     "data": {
      "text/plain": [
       "'anana'"
      ]
     },
     "execution_count": 6,
     "metadata": {},
     "output_type": "execute_result"
    }
   ],
   "source": [
    "delchar(\"banana\",\"b\")"
   ]
  },
  {
   "cell_type": "code",
   "execution_count": 7,
   "metadata": {},
   "outputs": [
    {
     "data": {
      "text/plain": [
       "'bnn'"
      ]
     },
     "execution_count": 7,
     "metadata": {},
     "output_type": "execute_result"
    }
   ],
   "source": [
    "delchar(\"banana\",\"a\")"
   ]
  },
  {
   "cell_type": "code",
   "execution_count": 8,
   "metadata": {},
   "outputs": [
    {
     "data": {
      "text/plain": [
       "'baaa'"
      ]
     },
     "execution_count": 8,
     "metadata": {},
     "output_type": "execute_result"
    }
   ],
   "source": [
    "delchar(\"banana\",\"n\")"
   ]
  },
  {
   "cell_type": "code",
   "execution_count": 9,
   "metadata": {},
   "outputs": [
    {
     "data": {
      "text/plain": [
       "'banana'"
      ]
     },
     "execution_count": 9,
     "metadata": {},
     "output_type": "execute_result"
    }
   ],
   "source": [
    "delchar(\"banana\",\"an\")"
   ]
  },
  {
   "cell_type": "markdown",
   "metadata": {},
   "source": [
    "**Problem Statement 3**\n",
    "\n",
    "Write a function shuffle(l1,l2) that takes as input two lists, 11 and l2, and returns a list consisting of the first elment in l1, then the first element in l2, then the second element in l2, then the second element in l2, and so on. If the two lists are not of equal length, the remaining elements of the longer list are appended at the end of the shuffled output.\n",
    "\n",
    "Here are some examples to show how your function should work.\n",
    "\n",
    "shuffle([0,2,4],[1,3,5])\n",
    "\n",
    "[0, 1, 2, 3, 4, 5]\n",
    "\n",
    "shuffle([0,2,4],[1])\n",
    "\n",
    "[0, 1, 2, 4]\n",
    "\n",
    "shuffle([0],[1,3,5])\n",
    "\n",
    "[0, 1, 3, 5]"
   ]
  },
  {
   "cell_type": "code",
   "execution_count": 10,
   "metadata": {},
   "outputs": [],
   "source": [
    "def shuffle(l1,l2):\n",
    "    l3 = []\n",
    "    max_len = len(l2) if len(l1) < len(l2) else len(l1)\n",
    "    for i in range(max_len):\n",
    "        if i < len(l1):\n",
    "            l3.append(l1[i])\n",
    "        if i < len(l2):\n",
    "            l3.append(l2[i])\n",
    "    return l3"
   ]
  },
  {
   "cell_type": "code",
   "execution_count": 11,
   "metadata": {},
   "outputs": [
    {
     "data": {
      "text/plain": [
       "[0, 1, 2, 3, 4, 5]"
      ]
     },
     "execution_count": 11,
     "metadata": {},
     "output_type": "execute_result"
    }
   ],
   "source": [
    "shuffle([0,2,4],[1,3,5])"
   ]
  },
  {
   "cell_type": "code",
   "execution_count": 12,
   "metadata": {},
   "outputs": [
    {
     "data": {
      "text/plain": [
       "[0, 1, 2, 4]"
      ]
     },
     "execution_count": 12,
     "metadata": {},
     "output_type": "execute_result"
    }
   ],
   "source": [
    "shuffle([0,2,4],[1])"
   ]
  },
  {
   "cell_type": "code",
   "execution_count": 13,
   "metadata": {},
   "outputs": [
    {
     "data": {
      "text/plain": [
       "[0, 1, 3, 5]"
      ]
     },
     "execution_count": 13,
     "metadata": {},
     "output_type": "execute_result"
    }
   ],
   "source": [
    "shuffle([0],[1,3,5])"
   ]
  },
  {
   "cell_type": "markdown",
   "metadata": {},
   "source": [
    "**Problem Statement 4**\n",
    "\n",
    "Write a function contracting(l) that takes as input a list of integer l and returns True if the absolute difference between each adjacent pair of elements strictly decreases.\n",
    "\n",
    "Here are some examples of how your function should work.\n",
    "\n",
    "contracting([9,2,7,3,1])\n",
    "\n",
    "True\n",
    "\n",
    "contracting([-2,3,7,2,-1]) \n",
    "\n",
    "False\n",
    "\n",
    "contracting([10,7,4,1])\n",
    "\n",
    "False"
   ]
  },
  {
   "cell_type": "code",
   "execution_count": 14,
   "metadata": {},
   "outputs": [],
   "source": [
    "import sys\n",
    "\n",
    "def contracting(l):\n",
    "    dec = sys.maxsize\n",
    "    for i in range(len(l)-1):\n",
    "        nv = abs(l[i]-l[i+1])\n",
    "        if nv < dec:\n",
    "            dec = nv\n",
    "        else:\n",
    "            return False\n",
    "    return True"
   ]
  },
  {
   "cell_type": "code",
   "execution_count": 15,
   "metadata": {},
   "outputs": [
    {
     "data": {
      "text/plain": [
       "True"
      ]
     },
     "execution_count": 15,
     "metadata": {},
     "output_type": "execute_result"
    }
   ],
   "source": [
    "contracting([9,2,7,3,1])"
   ]
  },
  {
   "cell_type": "code",
   "execution_count": 16,
   "metadata": {},
   "outputs": [
    {
     "data": {
      "text/plain": [
       "False"
      ]
     },
     "execution_count": 16,
     "metadata": {},
     "output_type": "execute_result"
    }
   ],
   "source": [
    "contracting([-2,3,7,2,-1])"
   ]
  },
  {
   "cell_type": "code",
   "execution_count": 17,
   "metadata": {},
   "outputs": [
    {
     "data": {
      "text/plain": [
       "False"
      ]
     },
     "execution_count": 17,
     "metadata": {},
     "output_type": "execute_result"
    }
   ],
   "source": [
    "contracting([10,7,4,1])"
   ]
  },
  {
   "cell_type": "markdown",
   "metadata": {},
   "source": [
    "**Problem Statement 5**\n",
    "\n",
    "In a list of integers l, the neighbours of l[i] are l[i-1] and l[i+1]. l[i] is a hill if it is strictly greater than its neighbours and a valley if it is strictly less than its neighbours.\n",
    "Write a function counthv(l) that takes as input a list of integers l and returns a list [hc,vc] where hc is the number of hills in l and vc is the number of valleys in l.\n",
    "\n",
    "Here are some examples to show how your function should work.\n",
    "\n",
    "counthv([1,2,1,2,3,2,1])\n",
    "\n",
    "[2, 1]\n",
    "\n",
    "counthv([1,2,3,1])\n",
    "\n",
    "[1, 0]\n",
    "\n",
    "counthv([3,1,2,3])\n",
    "\n",
    "[0, 1]\n"
   ]
  },
  {
   "cell_type": "code",
   "execution_count": 18,
   "metadata": {},
   "outputs": [],
   "source": [
    "def counthv(l):\n",
    "    hc = 0\n",
    "    vc = 0\n",
    "    for i in range(1, len(l)-1):\n",
    "        if l[i-1] < l[i] and l[i] > l[i+1]:\n",
    "            hc += 1\n",
    "        elif l[i-1] > l[i] and l[i] < l[i+1]:\n",
    "            vc += 1\n",
    "    return [hc,vc]"
   ]
  },
  {
   "cell_type": "code",
   "execution_count": 19,
   "metadata": {},
   "outputs": [
    {
     "data": {
      "text/plain": [
       "[2, 1]"
      ]
     },
     "execution_count": 19,
     "metadata": {},
     "output_type": "execute_result"
    }
   ],
   "source": [
    "counthv([1,2,1,2,3,2,1])"
   ]
  },
  {
   "cell_type": "code",
   "execution_count": 20,
   "metadata": {},
   "outputs": [
    {
     "data": {
      "text/plain": [
       "[1, 0]"
      ]
     },
     "execution_count": 20,
     "metadata": {},
     "output_type": "execute_result"
    }
   ],
   "source": [
    "counthv([1,2,3,1])"
   ]
  },
  {
   "cell_type": "code",
   "execution_count": 21,
   "metadata": {},
   "outputs": [
    {
     "data": {
      "text/plain": [
       "[0, 1]"
      ]
     },
     "execution_count": 21,
     "metadata": {},
     "output_type": "execute_result"
    }
   ],
   "source": [
    "counthv([3,1,2,3])"
   ]
  },
  {
   "cell_type": "markdown",
   "metadata": {},
   "source": [
    "**Problem Statement 6**\n",
    "\n",
    "A square n×n matrix of integers can be written in Python as a list with n elements, where each element is in turn a list of n integers, representing a row of the matrix. For instance, the matrix\n",
    "\n",
    "  1  2  3\n",
    "  4  5  6\n",
    "  7  8  9\n",
    "would be represented as [[1,2,3], [4,5,6], [7,8,9]].\n",
    "\n",
    "Write a function leftrotate(m) that takes a list representation m of a square matrix as input, and returns the matrix obtained by rotating the original matrix counterclockwize by 90 degrees. For instance, if we rotate the matrix above, we get\n",
    "\n",
    "  3  6  9\n",
    "  2  5  8    \n",
    "  1  4  7\n",
    "Your function should not modify the argument m provided to the function rotate().\n",
    "\n",
    "Here are some examples of how your function should work.\n",
    "\n",
    " \n",
    "leftrotate([[1,2],[3,4]])\n",
    "\n",
    "[[2, 4], [1, 3]]\n",
    "\n",
    "leftrotate([[1,2,3],[4,5,6],[7,8,9]])\n",
    "\n",
    "[[3, 6, 9], [2, 5, 8], [1, 4, 7]]\n",
    "\n",
    "leftrotate([[1,1,1],[2,2,2],[3,3,3]])\n",
    "\n",
    "[[1, 2, 3], [1, 2, 3], [1, 2, 3]]"
   ]
  },
  {
   "cell_type": "code",
   "execution_count": 22,
   "metadata": {},
   "outputs": [],
   "source": [
    "def create_zero_list(n):\n",
    "    c = []\n",
    "    for i in range(n):\n",
    "        a = []\n",
    "        for j in range(n):\n",
    "            a.append(0)\n",
    "        c.append(a)\n",
    "    return c\n",
    "def leftrotate(l):\n",
    "    n = len(l)\n",
    "    c = create_zero_list(n)\n",
    "    for i in range(n):\n",
    "        for j in range(n):\n",
    "            c[n-1-j][i] = l[i][j]\n",
    "    return c"
   ]
  },
  {
   "cell_type": "code",
   "execution_count": 23,
   "metadata": {},
   "outputs": [
    {
     "data": {
      "text/plain": [
       "[[2, 4], [1, 3]]"
      ]
     },
     "execution_count": 23,
     "metadata": {},
     "output_type": "execute_result"
    }
   ],
   "source": [
    "leftrotate([[1,2],[3,4]])"
   ]
  },
  {
   "cell_type": "code",
   "execution_count": 24,
   "metadata": {},
   "outputs": [
    {
     "data": {
      "text/plain": [
       "[[3, 6, 9], [2, 5, 8], [1, 4, 7]]"
      ]
     },
     "execution_count": 24,
     "metadata": {},
     "output_type": "execute_result"
    }
   ],
   "source": [
    "leftrotate([[1,2,3],[4,5,6],[7,8,9]])"
   ]
  },
  {
   "cell_type": "code",
   "execution_count": 25,
   "metadata": {},
   "outputs": [
    {
     "data": {
      "text/plain": [
       "[[1, 2, 3], [1, 2, 3], [1, 2, 3]]"
      ]
     },
     "execution_count": 25,
     "metadata": {},
     "output_type": "execute_result"
    }
   ],
   "source": [
    "leftrotate([[1,1,1],[2,2,2],[3,3,3]])"
   ]
  },
  {
   "cell_type": "code",
   "execution_count": null,
   "metadata": {},
   "outputs": [],
   "source": []
  }
 ],
 "metadata": {
  "kernelspec": {
   "display_name": "Python 3",
   "language": "python",
   "name": "python3"
  },
  "language_info": {
   "codemirror_mode": {
    "name": "ipython",
    "version": 3
   },
   "file_extension": ".py",
   "mimetype": "text/x-python",
   "name": "python",
   "nbconvert_exporter": "python",
   "pygments_lexer": "ipython3",
   "version": "3.7.3"
  }
 },
 "nbformat": 4,
 "nbformat_minor": 2
}
